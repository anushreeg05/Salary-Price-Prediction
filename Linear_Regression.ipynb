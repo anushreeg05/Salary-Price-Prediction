{
  "cells": [
    {
      "cell_type": "code",
      "execution_count": 5,
      "metadata": {
        "id": "aMHub42-N4UU"
      },
      "outputs": [],
      "source": [
        "import numpy as np\n",
        "import pandas as pd\n",
        "import matplotlib.pyplot as plt"
      ]
    },
    {
      "cell_type": "code",
      "execution_count": 6,
      "metadata": {
        "id": "oFrxeKV4ufd-"
      },
      "outputs": [
        {
          "data": {
            "text/html": [
              "<div>\n",
              "<style scoped>\n",
              "    .dataframe tbody tr th:only-of-type {\n",
              "        vertical-align: middle;\n",
              "    }\n",
              "\n",
              "    .dataframe tbody tr th {\n",
              "        vertical-align: top;\n",
              "    }\n",
              "\n",
              "    .dataframe thead th {\n",
              "        text-align: right;\n",
              "    }\n",
              "</style>\n",
              "<table border=\"1\" class=\"dataframe\">\n",
              "  <thead>\n",
              "    <tr style=\"text-align: right;\">\n",
              "      <th></th>\n",
              "      <th>Age</th>\n",
              "      <th>Gender</th>\n",
              "      <th>Education Level</th>\n",
              "      <th>Job Title</th>\n",
              "      <th>Years of Experience</th>\n",
              "      <th>Salary</th>\n",
              "    </tr>\n",
              "  </thead>\n",
              "  <tbody>\n",
              "    <tr>\n",
              "      <th>0</th>\n",
              "      <td>32.0</td>\n",
              "      <td>Male</td>\n",
              "      <td>Bachelor's</td>\n",
              "      <td>Software Engineer</td>\n",
              "      <td>5.0</td>\n",
              "      <td>90000.0</td>\n",
              "    </tr>\n",
              "    <tr>\n",
              "      <th>1</th>\n",
              "      <td>28.0</td>\n",
              "      <td>Female</td>\n",
              "      <td>Master's</td>\n",
              "      <td>Data Analyst</td>\n",
              "      <td>3.0</td>\n",
              "      <td>65000.0</td>\n",
              "    </tr>\n",
              "    <tr>\n",
              "      <th>2</th>\n",
              "      <td>45.0</td>\n",
              "      <td>Male</td>\n",
              "      <td>PhD</td>\n",
              "      <td>Senior Manager</td>\n",
              "      <td>15.0</td>\n",
              "      <td>150000.0</td>\n",
              "    </tr>\n",
              "    <tr>\n",
              "      <th>3</th>\n",
              "      <td>36.0</td>\n",
              "      <td>Female</td>\n",
              "      <td>Bachelor's</td>\n",
              "      <td>Sales Associate</td>\n",
              "      <td>7.0</td>\n",
              "      <td>60000.0</td>\n",
              "    </tr>\n",
              "    <tr>\n",
              "      <th>4</th>\n",
              "      <td>52.0</td>\n",
              "      <td>Male</td>\n",
              "      <td>Master's</td>\n",
              "      <td>Director</td>\n",
              "      <td>20.0</td>\n",
              "      <td>200000.0</td>\n",
              "    </tr>\n",
              "    <tr>\n",
              "      <th>...</th>\n",
              "      <td>...</td>\n",
              "      <td>...</td>\n",
              "      <td>...</td>\n",
              "      <td>...</td>\n",
              "      <td>...</td>\n",
              "      <td>...</td>\n",
              "    </tr>\n",
              "    <tr>\n",
              "      <th>370</th>\n",
              "      <td>35.0</td>\n",
              "      <td>Female</td>\n",
              "      <td>Bachelor's</td>\n",
              "      <td>Senior Marketing Analyst</td>\n",
              "      <td>8.0</td>\n",
              "      <td>85000.0</td>\n",
              "    </tr>\n",
              "    <tr>\n",
              "      <th>371</th>\n",
              "      <td>43.0</td>\n",
              "      <td>Male</td>\n",
              "      <td>Master's</td>\n",
              "      <td>Director of Operations</td>\n",
              "      <td>19.0</td>\n",
              "      <td>170000.0</td>\n",
              "    </tr>\n",
              "    <tr>\n",
              "      <th>372</th>\n",
              "      <td>29.0</td>\n",
              "      <td>Female</td>\n",
              "      <td>Bachelor's</td>\n",
              "      <td>Junior Project Manager</td>\n",
              "      <td>2.0</td>\n",
              "      <td>40000.0</td>\n",
              "    </tr>\n",
              "    <tr>\n",
              "      <th>373</th>\n",
              "      <td>34.0</td>\n",
              "      <td>Male</td>\n",
              "      <td>Bachelor's</td>\n",
              "      <td>Senior Operations Coordinator</td>\n",
              "      <td>7.0</td>\n",
              "      <td>90000.0</td>\n",
              "    </tr>\n",
              "    <tr>\n",
              "      <th>374</th>\n",
              "      <td>44.0</td>\n",
              "      <td>Female</td>\n",
              "      <td>PhD</td>\n",
              "      <td>Senior Business Analyst</td>\n",
              "      <td>15.0</td>\n",
              "      <td>150000.0</td>\n",
              "    </tr>\n",
              "  </tbody>\n",
              "</table>\n",
              "<p>375 rows × 6 columns</p>\n",
              "</div>"
            ],
            "text/plain": [
              "      Age  Gender Education Level                      Job Title  \\\n",
              "0    32.0    Male      Bachelor's              Software Engineer   \n",
              "1    28.0  Female        Master's                   Data Analyst   \n",
              "2    45.0    Male             PhD                 Senior Manager   \n",
              "3    36.0  Female      Bachelor's                Sales Associate   \n",
              "4    52.0    Male        Master's                       Director   \n",
              "..    ...     ...             ...                            ...   \n",
              "370  35.0  Female      Bachelor's       Senior Marketing Analyst   \n",
              "371  43.0    Male        Master's         Director of Operations   \n",
              "372  29.0  Female      Bachelor's         Junior Project Manager   \n",
              "373  34.0    Male      Bachelor's  Senior Operations Coordinator   \n",
              "374  44.0  Female             PhD        Senior Business Analyst   \n",
              "\n",
              "     Years of Experience    Salary  \n",
              "0                    5.0   90000.0  \n",
              "1                    3.0   65000.0  \n",
              "2                   15.0  150000.0  \n",
              "3                    7.0   60000.0  \n",
              "4                   20.0  200000.0  \n",
              "..                   ...       ...  \n",
              "370                  8.0   85000.0  \n",
              "371                 19.0  170000.0  \n",
              "372                  2.0   40000.0  \n",
              "373                  7.0   90000.0  \n",
              "374                 15.0  150000.0  \n",
              "\n",
              "[375 rows x 6 columns]"
            ]
          },
          "execution_count": 6,
          "metadata": {},
          "output_type": "execute_result"
        }
      ],
      "source": [
        "df = pd.read_csv(\"C:/Users/anush/Desktop/PROJECT/Salary Data.csv\")\n",
        "df"
      ]
    },
    {
      "cell_type": "code",
      "execution_count": 7,
      "metadata": {
        "id": "CainENaFukD1"
      },
      "outputs": [
        {
          "name": "stdout",
          "output_type": "stream",
          "text": [
            "<class 'pandas.core.frame.DataFrame'>\n",
            "RangeIndex: 375 entries, 0 to 374\n",
            "Data columns (total 6 columns):\n",
            " #   Column               Non-Null Count  Dtype  \n",
            "---  ------               --------------  -----  \n",
            " 0   Age                  373 non-null    float64\n",
            " 1   Gender               373 non-null    object \n",
            " 2   Education Level      373 non-null    object \n",
            " 3   Job Title            373 non-null    object \n",
            " 4   Years of Experience  373 non-null    float64\n",
            " 5   Salary               373 non-null    float64\n",
            "dtypes: float64(3), object(3)\n",
            "memory usage: 17.7+ KB\n"
          ]
        }
      ],
      "source": [
        "df.info()"
      ]
    },
    {
      "cell_type": "code",
      "execution_count": 8,
      "metadata": {
        "id": "oU4KPhGswaKp"
      },
      "outputs": [
        {
          "data": {
            "text/html": [
              "<div>\n",
              "<style scoped>\n",
              "    .dataframe tbody tr th:only-of-type {\n",
              "        vertical-align: middle;\n",
              "    }\n",
              "\n",
              "    .dataframe tbody tr th {\n",
              "        vertical-align: top;\n",
              "    }\n",
              "\n",
              "    .dataframe thead th {\n",
              "        text-align: right;\n",
              "    }\n",
              "</style>\n",
              "<table border=\"1\" class=\"dataframe\">\n",
              "  <thead>\n",
              "    <tr style=\"text-align: right;\">\n",
              "      <th></th>\n",
              "      <th>Age</th>\n",
              "      <th>Years of Experience</th>\n",
              "      <th>Salary</th>\n",
              "    </tr>\n",
              "  </thead>\n",
              "  <tbody>\n",
              "    <tr>\n",
              "      <th>count</th>\n",
              "      <td>373.000000</td>\n",
              "      <td>373.000000</td>\n",
              "      <td>373.000000</td>\n",
              "    </tr>\n",
              "    <tr>\n",
              "      <th>mean</th>\n",
              "      <td>37.431635</td>\n",
              "      <td>10.030831</td>\n",
              "      <td>100577.345845</td>\n",
              "    </tr>\n",
              "    <tr>\n",
              "      <th>std</th>\n",
              "      <td>7.069073</td>\n",
              "      <td>6.557007</td>\n",
              "      <td>48240.013482</td>\n",
              "    </tr>\n",
              "    <tr>\n",
              "      <th>min</th>\n",
              "      <td>23.000000</td>\n",
              "      <td>0.000000</td>\n",
              "      <td>350.000000</td>\n",
              "    </tr>\n",
              "    <tr>\n",
              "      <th>25%</th>\n",
              "      <td>31.000000</td>\n",
              "      <td>4.000000</td>\n",
              "      <td>55000.000000</td>\n",
              "    </tr>\n",
              "    <tr>\n",
              "      <th>50%</th>\n",
              "      <td>36.000000</td>\n",
              "      <td>9.000000</td>\n",
              "      <td>95000.000000</td>\n",
              "    </tr>\n",
              "    <tr>\n",
              "      <th>75%</th>\n",
              "      <td>44.000000</td>\n",
              "      <td>15.000000</td>\n",
              "      <td>140000.000000</td>\n",
              "    </tr>\n",
              "    <tr>\n",
              "      <th>max</th>\n",
              "      <td>53.000000</td>\n",
              "      <td>25.000000</td>\n",
              "      <td>250000.000000</td>\n",
              "    </tr>\n",
              "  </tbody>\n",
              "</table>\n",
              "</div>"
            ],
            "text/plain": [
              "              Age  Years of Experience         Salary\n",
              "count  373.000000           373.000000     373.000000\n",
              "mean    37.431635            10.030831  100577.345845\n",
              "std      7.069073             6.557007   48240.013482\n",
              "min     23.000000             0.000000     350.000000\n",
              "25%     31.000000             4.000000   55000.000000\n",
              "50%     36.000000             9.000000   95000.000000\n",
              "75%     44.000000            15.000000  140000.000000\n",
              "max     53.000000            25.000000  250000.000000"
            ]
          },
          "execution_count": 8,
          "metadata": {},
          "output_type": "execute_result"
        }
      ],
      "source": [
        "df.describe()"
      ]
    },
    {
      "cell_type": "code",
      "execution_count": 9,
      "metadata": {
        "id": "aedP5lcAwdwr"
      },
      "outputs": [
        {
          "data": {
            "text/plain": [
              "Age                    2\n",
              "Gender                 2\n",
              "Education Level        2\n",
              "Job Title              2\n",
              "Years of Experience    2\n",
              "Salary                 2\n",
              "dtype: int64"
            ]
          },
          "execution_count": 9,
          "metadata": {},
          "output_type": "execute_result"
        }
      ],
      "source": [
        "df.isnull().sum()"
      ]
    },
    {
      "cell_type": "code",
      "execution_count": 10,
      "metadata": {
        "id": "uF5pRoUowhDQ"
      },
      "outputs": [
        {
          "data": {
            "text/html": [
              "<div>\n",
              "<style scoped>\n",
              "    .dataframe tbody tr th:only-of-type {\n",
              "        vertical-align: middle;\n",
              "    }\n",
              "\n",
              "    .dataframe tbody tr th {\n",
              "        vertical-align: top;\n",
              "    }\n",
              "\n",
              "    .dataframe thead th {\n",
              "        text-align: right;\n",
              "    }\n",
              "</style>\n",
              "<table border=\"1\" class=\"dataframe\">\n",
              "  <thead>\n",
              "    <tr style=\"text-align: right;\">\n",
              "      <th></th>\n",
              "      <th>Age</th>\n",
              "      <th>Gender</th>\n",
              "      <th>Education Level</th>\n",
              "      <th>Job Title</th>\n",
              "      <th>Years of Experience</th>\n",
              "      <th>Salary</th>\n",
              "    </tr>\n",
              "  </thead>\n",
              "  <tbody>\n",
              "    <tr>\n",
              "      <th>0</th>\n",
              "      <td>32.0</td>\n",
              "      <td>Male</td>\n",
              "      <td>Bachelor's</td>\n",
              "      <td>Software Engineer</td>\n",
              "      <td>5.0</td>\n",
              "      <td>90000.0</td>\n",
              "    </tr>\n",
              "    <tr>\n",
              "      <th>1</th>\n",
              "      <td>28.0</td>\n",
              "      <td>Female</td>\n",
              "      <td>Master's</td>\n",
              "      <td>Data Analyst</td>\n",
              "      <td>3.0</td>\n",
              "      <td>65000.0</td>\n",
              "    </tr>\n",
              "    <tr>\n",
              "      <th>2</th>\n",
              "      <td>45.0</td>\n",
              "      <td>Male</td>\n",
              "      <td>PhD</td>\n",
              "      <td>Senior Manager</td>\n",
              "      <td>15.0</td>\n",
              "      <td>150000.0</td>\n",
              "    </tr>\n",
              "    <tr>\n",
              "      <th>3</th>\n",
              "      <td>36.0</td>\n",
              "      <td>Female</td>\n",
              "      <td>Bachelor's</td>\n",
              "      <td>Sales Associate</td>\n",
              "      <td>7.0</td>\n",
              "      <td>60000.0</td>\n",
              "    </tr>\n",
              "    <tr>\n",
              "      <th>4</th>\n",
              "      <td>52.0</td>\n",
              "      <td>Male</td>\n",
              "      <td>Master's</td>\n",
              "      <td>Director</td>\n",
              "      <td>20.0</td>\n",
              "      <td>200000.0</td>\n",
              "    </tr>\n",
              "    <tr>\n",
              "      <th>...</th>\n",
              "      <td>...</td>\n",
              "      <td>...</td>\n",
              "      <td>...</td>\n",
              "      <td>...</td>\n",
              "      <td>...</td>\n",
              "      <td>...</td>\n",
              "    </tr>\n",
              "    <tr>\n",
              "      <th>370</th>\n",
              "      <td>35.0</td>\n",
              "      <td>Female</td>\n",
              "      <td>Bachelor's</td>\n",
              "      <td>Senior Marketing Analyst</td>\n",
              "      <td>8.0</td>\n",
              "      <td>85000.0</td>\n",
              "    </tr>\n",
              "    <tr>\n",
              "      <th>371</th>\n",
              "      <td>43.0</td>\n",
              "      <td>Male</td>\n",
              "      <td>Master's</td>\n",
              "      <td>Director of Operations</td>\n",
              "      <td>19.0</td>\n",
              "      <td>170000.0</td>\n",
              "    </tr>\n",
              "    <tr>\n",
              "      <th>372</th>\n",
              "      <td>29.0</td>\n",
              "      <td>Female</td>\n",
              "      <td>Bachelor's</td>\n",
              "      <td>Junior Project Manager</td>\n",
              "      <td>2.0</td>\n",
              "      <td>40000.0</td>\n",
              "    </tr>\n",
              "    <tr>\n",
              "      <th>373</th>\n",
              "      <td>34.0</td>\n",
              "      <td>Male</td>\n",
              "      <td>Bachelor's</td>\n",
              "      <td>Senior Operations Coordinator</td>\n",
              "      <td>7.0</td>\n",
              "      <td>90000.0</td>\n",
              "    </tr>\n",
              "    <tr>\n",
              "      <th>374</th>\n",
              "      <td>44.0</td>\n",
              "      <td>Female</td>\n",
              "      <td>PhD</td>\n",
              "      <td>Senior Business Analyst</td>\n",
              "      <td>15.0</td>\n",
              "      <td>150000.0</td>\n",
              "    </tr>\n",
              "  </tbody>\n",
              "</table>\n",
              "<p>373 rows × 6 columns</p>\n",
              "</div>"
            ],
            "text/plain": [
              "      Age  Gender Education Level                      Job Title  \\\n",
              "0    32.0    Male      Bachelor's              Software Engineer   \n",
              "1    28.0  Female        Master's                   Data Analyst   \n",
              "2    45.0    Male             PhD                 Senior Manager   \n",
              "3    36.0  Female      Bachelor's                Sales Associate   \n",
              "4    52.0    Male        Master's                       Director   \n",
              "..    ...     ...             ...                            ...   \n",
              "370  35.0  Female      Bachelor's       Senior Marketing Analyst   \n",
              "371  43.0    Male        Master's         Director of Operations   \n",
              "372  29.0  Female      Bachelor's         Junior Project Manager   \n",
              "373  34.0    Male      Bachelor's  Senior Operations Coordinator   \n",
              "374  44.0  Female             PhD        Senior Business Analyst   \n",
              "\n",
              "     Years of Experience    Salary  \n",
              "0                    5.0   90000.0  \n",
              "1                    3.0   65000.0  \n",
              "2                   15.0  150000.0  \n",
              "3                    7.0   60000.0  \n",
              "4                   20.0  200000.0  \n",
              "..                   ...       ...  \n",
              "370                  8.0   85000.0  \n",
              "371                 19.0  170000.0  \n",
              "372                  2.0   40000.0  \n",
              "373                  7.0   90000.0  \n",
              "374                 15.0  150000.0  \n",
              "\n",
              "[373 rows x 6 columns]"
            ]
          },
          "execution_count": 10,
          "metadata": {},
          "output_type": "execute_result"
        }
      ],
      "source": [
        "df_clean = df.dropna()\n",
        "df_clean"
      ]
    },
    {
      "cell_type": "code",
      "execution_count": 11,
      "metadata": {
        "id": "jrhtk8IswuVU"
      },
      "outputs": [
        {
          "data": {
            "text/plain": [
              "Age                    2\n",
              "Gender                 2\n",
              "Education Level        2\n",
              "Job Title              2\n",
              "Years of Experience    2\n",
              "Salary                 2\n",
              "dtype: int64"
            ]
          },
          "execution_count": 11,
          "metadata": {},
          "output_type": "execute_result"
        }
      ],
      "source": [
        "df.isnull().sum()"
      ]
    },
    {
      "cell_type": "code",
      "execution_count": 12,
      "metadata": {
        "id": "0PhgoO4lw01s"
      },
      "outputs": [],
      "source": [
        "df['Age'] = df['Age'].fillna(df['Age'].mean())"
      ]
    },
    {
      "cell_type": "code",
      "execution_count": 13,
      "metadata": {
        "id": "uyFaXaEww_1o"
      },
      "outputs": [
        {
          "data": {
            "text/plain": [
              "Age                    0\n",
              "Gender                 2\n",
              "Education Level        2\n",
              "Job Title              2\n",
              "Years of Experience    2\n",
              "Salary                 2\n",
              "dtype: int64"
            ]
          },
          "execution_count": 13,
          "metadata": {},
          "output_type": "execute_result"
        }
      ],
      "source": [
        "df.isnull().sum()"
      ]
    },
    {
      "cell_type": "code",
      "execution_count": 14,
      "metadata": {
        "id": "KsevEtpuxH3s"
      },
      "outputs": [
        {
          "name": "stderr",
          "output_type": "stream",
          "text": [
            "C:\\Users\\anush\\AppData\\Local\\Temp\\ipykernel_21912\\1054839202.py:1: FutureWarning: Series.fillna with 'method' is deprecated and will raise in a future version. Use obj.ffill() or obj.bfill() instead.\n",
            "  df['Gender'] = df['Gender'].fillna(method='ffill')\n"
          ]
        }
      ],
      "source": [
        "df['Gender'] = df['Gender'].fillna(method='ffill')"
      ]
    },
    {
      "cell_type": "code",
      "execution_count": 15,
      "metadata": {
        "id": "G1WV89uxxQfb"
      },
      "outputs": [
        {
          "name": "stderr",
          "output_type": "stream",
          "text": [
            "C:\\Users\\anush\\AppData\\Local\\Temp\\ipykernel_21912\\2077322725.py:1: FutureWarning: Series.fillna with 'method' is deprecated and will raise in a future version. Use obj.ffill() or obj.bfill() instead.\n",
            "  df['Education Level'] = df['Education Level'].fillna(method='ffill')\n"
          ]
        }
      ],
      "source": [
        "df['Education Level'] = df['Education Level'].fillna(method='ffill')"
      ]
    },
    {
      "cell_type": "code",
      "execution_count": 16,
      "metadata": {
        "id": "tdXBN3vBxxJx"
      },
      "outputs": [
        {
          "name": "stderr",
          "output_type": "stream",
          "text": [
            "C:\\Users\\anush\\AppData\\Local\\Temp\\ipykernel_21912\\517787270.py:1: FutureWarning: Series.fillna with 'method' is deprecated and will raise in a future version. Use obj.ffill() or obj.bfill() instead.\n",
            "  df['Job Title'] = df['Job Title'].fillna(method='ffill')\n"
          ]
        }
      ],
      "source": [
        "df['Job Title'] = df['Job Title'].fillna(method='ffill')"
      ]
    },
    {
      "cell_type": "code",
      "execution_count": 17,
      "metadata": {
        "id": "CgavkkNryA8u"
      },
      "outputs": [
        {
          "name": "stderr",
          "output_type": "stream",
          "text": [
            "C:\\Users\\anush\\AppData\\Local\\Temp\\ipykernel_21912\\2880527359.py:1: FutureWarning: Series.fillna with 'method' is deprecated and will raise in a future version. Use obj.ffill() or obj.bfill() instead.\n",
            "  df['Years of Experience'] = df['Years of Experience'].fillna(method='ffill')\n"
          ]
        }
      ],
      "source": [
        "df['Years of Experience'] = df['Years of Experience'].fillna(method='ffill')"
      ]
    },
    {
      "cell_type": "code",
      "execution_count": 18,
      "metadata": {
        "id": "TJqIGXeKyPV9"
      },
      "outputs": [],
      "source": [
        "df['Salary'] = df['Salary'].fillna(df['Salary'].mean())"
      ]
    },
    {
      "cell_type": "code",
      "execution_count": 19,
      "metadata": {
        "id": "q6FOJyizyZjl"
      },
      "outputs": [
        {
          "data": {
            "text/plain": [
              "Age                    0\n",
              "Gender                 0\n",
              "Education Level        0\n",
              "Job Title              0\n",
              "Years of Experience    0\n",
              "Salary                 0\n",
              "dtype: int64"
            ]
          },
          "execution_count": 19,
          "metadata": {},
          "output_type": "execute_result"
        }
      ],
      "source": [
        "df.isnull().sum()"
      ]
    },
    {
      "cell_type": "code",
      "execution_count": 20,
      "metadata": {
        "id": "fgrkFMKryb8k"
      },
      "outputs": [
        {
          "data": {
            "text/html": [
              "<div>\n",
              "<style scoped>\n",
              "    .dataframe tbody tr th:only-of-type {\n",
              "        vertical-align: middle;\n",
              "    }\n",
              "\n",
              "    .dataframe tbody tr th {\n",
              "        vertical-align: top;\n",
              "    }\n",
              "\n",
              "    .dataframe thead th {\n",
              "        text-align: right;\n",
              "    }\n",
              "</style>\n",
              "<table border=\"1\" class=\"dataframe\">\n",
              "  <thead>\n",
              "    <tr style=\"text-align: right;\">\n",
              "      <th></th>\n",
              "      <th>Age</th>\n",
              "      <th>Gender</th>\n",
              "      <th>Education Level</th>\n",
              "      <th>Job Title</th>\n",
              "      <th>Years of Experience</th>\n",
              "      <th>Salary</th>\n",
              "    </tr>\n",
              "  </thead>\n",
              "  <tbody>\n",
              "    <tr>\n",
              "      <th>0</th>\n",
              "      <td>32.0</td>\n",
              "      <td>Male</td>\n",
              "      <td>Bachelor's</td>\n",
              "      <td>Software Engineer</td>\n",
              "      <td>5.0</td>\n",
              "      <td>90000.0</td>\n",
              "    </tr>\n",
              "    <tr>\n",
              "      <th>1</th>\n",
              "      <td>28.0</td>\n",
              "      <td>Female</td>\n",
              "      <td>Master's</td>\n",
              "      <td>Data Analyst</td>\n",
              "      <td>3.0</td>\n",
              "      <td>65000.0</td>\n",
              "    </tr>\n",
              "    <tr>\n",
              "      <th>2</th>\n",
              "      <td>45.0</td>\n",
              "      <td>Male</td>\n",
              "      <td>PhD</td>\n",
              "      <td>Senior Manager</td>\n",
              "      <td>15.0</td>\n",
              "      <td>150000.0</td>\n",
              "    </tr>\n",
              "    <tr>\n",
              "      <th>3</th>\n",
              "      <td>36.0</td>\n",
              "      <td>Female</td>\n",
              "      <td>Bachelor's</td>\n",
              "      <td>Sales Associate</td>\n",
              "      <td>7.0</td>\n",
              "      <td>60000.0</td>\n",
              "    </tr>\n",
              "    <tr>\n",
              "      <th>4</th>\n",
              "      <td>52.0</td>\n",
              "      <td>Male</td>\n",
              "      <td>Master's</td>\n",
              "      <td>Director</td>\n",
              "      <td>20.0</td>\n",
              "      <td>200000.0</td>\n",
              "    </tr>\n",
              "    <tr>\n",
              "      <th>...</th>\n",
              "      <td>...</td>\n",
              "      <td>...</td>\n",
              "      <td>...</td>\n",
              "      <td>...</td>\n",
              "      <td>...</td>\n",
              "      <td>...</td>\n",
              "    </tr>\n",
              "    <tr>\n",
              "      <th>348</th>\n",
              "      <td>28.0</td>\n",
              "      <td>Female</td>\n",
              "      <td>Bachelor's</td>\n",
              "      <td>Junior Operations Manager</td>\n",
              "      <td>1.0</td>\n",
              "      <td>35000.0</td>\n",
              "    </tr>\n",
              "    <tr>\n",
              "      <th>349</th>\n",
              "      <td>36.0</td>\n",
              "      <td>Male</td>\n",
              "      <td>Bachelor's</td>\n",
              "      <td>Senior Business Development Manager</td>\n",
              "      <td>8.0</td>\n",
              "      <td>110000.0</td>\n",
              "    </tr>\n",
              "    <tr>\n",
              "      <th>350</th>\n",
              "      <td>44.0</td>\n",
              "      <td>Female</td>\n",
              "      <td>PhD</td>\n",
              "      <td>Senior Data Scientist</td>\n",
              "      <td>16.0</td>\n",
              "      <td>160000.0</td>\n",
              "    </tr>\n",
              "    <tr>\n",
              "      <th>351</th>\n",
              "      <td>31.0</td>\n",
              "      <td>Male</td>\n",
              "      <td>Bachelor's</td>\n",
              "      <td>Junior Marketing Coordinator</td>\n",
              "      <td>3.0</td>\n",
              "      <td>55000.0</td>\n",
              "    </tr>\n",
              "    <tr>\n",
              "      <th>371</th>\n",
              "      <td>43.0</td>\n",
              "      <td>Male</td>\n",
              "      <td>Master's</td>\n",
              "      <td>Director of Operations</td>\n",
              "      <td>19.0</td>\n",
              "      <td>170000.0</td>\n",
              "    </tr>\n",
              "  </tbody>\n",
              "</table>\n",
              "<p>326 rows × 6 columns</p>\n",
              "</div>"
            ],
            "text/plain": [
              "      Age  Gender Education Level                            Job Title  \\\n",
              "0    32.0    Male      Bachelor's                    Software Engineer   \n",
              "1    28.0  Female        Master's                         Data Analyst   \n",
              "2    45.0    Male             PhD                       Senior Manager   \n",
              "3    36.0  Female      Bachelor's                      Sales Associate   \n",
              "4    52.0    Male        Master's                             Director   \n",
              "..    ...     ...             ...                                  ...   \n",
              "348  28.0  Female      Bachelor's            Junior Operations Manager   \n",
              "349  36.0    Male      Bachelor's  Senior Business Development Manager   \n",
              "350  44.0  Female             PhD                Senior Data Scientist   \n",
              "351  31.0    Male      Bachelor's         Junior Marketing Coordinator   \n",
              "371  43.0    Male        Master's               Director of Operations   \n",
              "\n",
              "     Years of Experience    Salary  \n",
              "0                    5.0   90000.0  \n",
              "1                    3.0   65000.0  \n",
              "2                   15.0  150000.0  \n",
              "3                    7.0   60000.0  \n",
              "4                   20.0  200000.0  \n",
              "..                   ...       ...  \n",
              "348                  1.0   35000.0  \n",
              "349                  8.0  110000.0  \n",
              "350                 16.0  160000.0  \n",
              "351                  3.0   55000.0  \n",
              "371                 19.0  170000.0  \n",
              "\n",
              "[326 rows x 6 columns]"
            ]
          },
          "execution_count": 20,
          "metadata": {},
          "output_type": "execute_result"
        }
      ],
      "source": [
        "df_clean = df.drop_duplicates()\n",
        "df_clean"
      ]
    },
    {
      "cell_type": "code",
      "execution_count": 21,
      "metadata": {
        "id": "QYyvd6_JyhPo"
      },
      "outputs": [
        {
          "data": {
            "text/plain": [
              "Age                    0\n",
              "Gender                 0\n",
              "Education Level        0\n",
              "Job Title              0\n",
              "Years of Experience    0\n",
              "Salary                 0\n",
              "dtype: int64"
            ]
          },
          "execution_count": 21,
          "metadata": {},
          "output_type": "execute_result"
        }
      ],
      "source": [
        "df_clean.isnull().sum()"
      ]
    },
    {
      "cell_type": "code",
      "execution_count": 22,
      "metadata": {
        "id": "VjV-YRY1zFOk"
      },
      "outputs": [
        {
          "data": {
            "text/plain": [
              "array([[ 5. ],\n",
              "       [ 3. ],\n",
              "       [15. ],\n",
              "       [ 7. ],\n",
              "       [20. ],\n",
              "       [ 2. ],\n",
              "       [12. ],\n",
              "       [ 4. ],\n",
              "       [ 1. ],\n",
              "       [10. ],\n",
              "       [ 3. ],\n",
              "       [18. ],\n",
              "       [ 6. ],\n",
              "       [14. ],\n",
              "       [ 2. ],\n",
              "       [16. ],\n",
              "       [ 7. ],\n",
              "       [12. ],\n",
              "       [ 0. ],\n",
              "       [22. ],\n",
              "       [ 5. ],\n",
              "       [19. ],\n",
              "       [ 2. ],\n",
              "       [ 9. ],\n",
              "       [13. ],\n",
              "       [ 3. ],\n",
              "       [11. ],\n",
              "       [ 1. ],\n",
              "       [15. ],\n",
              "       [ 6. ],\n",
              "       [25. ],\n",
              "       [ 4. ],\n",
              "       [ 3. ],\n",
              "       [10. ],\n",
              "       [20. ],\n",
              "       [ 2. ],\n",
              "       [ 7. ],\n",
              "       [14. ],\n",
              "       [ 1. ],\n",
              "       [21. ],\n",
              "       [ 5. ],\n",
              "       [18. ],\n",
              "       [ 3. ],\n",
              "       [ 8. ],\n",
              "       [13. ],\n",
              "       [ 2. ],\n",
              "       [ 5. ],\n",
              "       [16. ],\n",
              "       [11. ],\n",
              "       [ 0. ],\n",
              "       [22. ],\n",
              "       [ 7. ],\n",
              "       [12. ],\n",
              "       [19. ],\n",
              "       [ 3. ],\n",
              "       [ 9. ],\n",
              "       [ 2. ],\n",
              "       [17. ],\n",
              "       [ 4. ],\n",
              "       [ 7. ],\n",
              "       [23. ],\n",
              "       [ 3. ],\n",
              "       [12. ],\n",
              "       [21. ],\n",
              "       [ 1. ],\n",
              "       [10. ],\n",
              "       [19. ],\n",
              "       [ 5. ],\n",
              "       [ 8. ],\n",
              "       [18. ],\n",
              "       [ 6. ],\n",
              "       [11. ],\n",
              "       [16. ],\n",
              "       [ 2. ],\n",
              "       [14. ],\n",
              "       [10. ],\n",
              "       [22. ],\n",
              "       [ 6. ],\n",
              "       [20. ],\n",
              "       [ 3. ],\n",
              "       [ 8. ],\n",
              "       [13. ],\n",
              "       [ 0. ],\n",
              "       [24. ],\n",
              "       [ 2. ],\n",
              "       [10. ],\n",
              "       [ 2. ],\n",
              "       [15. ],\n",
              "       [21. ],\n",
              "       [ 6. ],\n",
              "       [11. ],\n",
              "       [ 3. ],\n",
              "       [18. ],\n",
              "       [25. ],\n",
              "       [ 7. ],\n",
              "       [12. ],\n",
              "       [22. ],\n",
              "       [ 1. ],\n",
              "       [10. ],\n",
              "       [20. ],\n",
              "       [ 5. ],\n",
              "       [ 8. ],\n",
              "       [19. ],\n",
              "       [ 5. ],\n",
              "       [13. ],\n",
              "       [16. ],\n",
              "       [ 3. ],\n",
              "       [ 7. ],\n",
              "       [14. ],\n",
              "       [ 2. ],\n",
              "       [15. ],\n",
              "       [ 9. ],\n",
              "       [22. ],\n",
              "       [ 6. ],\n",
              "       [ 0.5],\n",
              "       [ 6. ],\n",
              "       [15. ],\n",
              "       [20. ],\n",
              "       [ 3. ],\n",
              "       [10. ],\n",
              "       [17. ],\n",
              "       [25. ],\n",
              "       [ 5. ],\n",
              "       [11. ],\n",
              "       [16. ],\n",
              "       [ 2. ],\n",
              "       [ 9. ],\n",
              "       [18. ],\n",
              "       [ 4. ],\n",
              "       [ 8. ],\n",
              "       [21. ],\n",
              "       [ 3. ],\n",
              "       [12. ],\n",
              "       [22. ],\n",
              "       [ 1. ],\n",
              "       [10. ],\n",
              "       [19. ],\n",
              "       [ 4. ],\n",
              "       [ 7. ],\n",
              "       [14. ],\n",
              "       [ 2. ],\n",
              "       [13. ],\n",
              "       [ 5. ],\n",
              "       [20. ],\n",
              "       [ 1.5],\n",
              "       [ 8. ],\n",
              "       [16. ],\n",
              "       [ 4. ],\n",
              "       [10. ],\n",
              "       [19. ],\n",
              "       [ 3. ],\n",
              "       [11. ],\n",
              "       [18. ],\n",
              "       [ 2. ],\n",
              "       [ 9. ],\n",
              "       [14. ],\n",
              "       [ 5. ],\n",
              "       [ 7. ],\n",
              "       [23. ],\n",
              "       [ 2. ],\n",
              "       [12. ],\n",
              "       [21. ],\n",
              "       [ 3. ],\n",
              "       [ 7. ],\n",
              "       [13. ],\n",
              "       [ 1.5],\n",
              "       [14. ],\n",
              "       [18. ],\n",
              "       [ 4. ],\n",
              "       [ 9. ],\n",
              "       [20. ],\n",
              "       [ 2. ],\n",
              "       [ 2. ],\n",
              "       [16. ],\n",
              "       [ 1.5],\n",
              "       [ 7. ],\n",
              "       [18. ],\n",
              "       [ 4. ],\n",
              "       [10. ],\n",
              "       [20. ],\n",
              "       [ 2. ],\n",
              "       [ 9. ],\n",
              "       [15. ],\n",
              "       [ 2. ],\n",
              "       [ 8. ],\n",
              "       [14. ],\n",
              "       [ 6. ],\n",
              "       [ 9. ],\n",
              "       [22. ],\n",
              "       [ 1.5],\n",
              "       [12. ],\n",
              "       [19. ],\n",
              "       [ 3. ],\n",
              "       [ 7. ],\n",
              "       [13. ],\n",
              "       [ 2. ],\n",
              "       [11. ],\n",
              "       [17. ],\n",
              "       [ 5. ],\n",
              "       [ 9. ],\n",
              "       [21. ],\n",
              "       [ 3. ],\n",
              "       [16. ],\n",
              "       [ 1.5],\n",
              "       [ 7. ],\n",
              "       [17. ],\n",
              "       [ 4. ],\n",
              "       [10. ],\n",
              "       [20. ],\n",
              "       [ 2. ],\n",
              "       [ 9. ],\n",
              "       [15. ],\n",
              "       [ 2. ],\n",
              "       [ 8. ],\n",
              "       [14. ],\n",
              "       [ 6. ],\n",
              "       [ 9. ],\n",
              "       [22. ],\n",
              "       [ 1.5],\n",
              "       [12. ],\n",
              "       [19. ],\n",
              "       [ 3. ],\n",
              "       [ 7. ],\n",
              "       [13. ],\n",
              "       [ 2. ],\n",
              "       [11. ],\n",
              "       [18. ],\n",
              "       [ 5. ],\n",
              "       [ 9. ],\n",
              "       [21. ],\n",
              "       [ 3. ],\n",
              "       [15. ],\n",
              "       [ 1.5],\n",
              "       [ 8. ],\n",
              "       [13. ],\n",
              "       [ 3. ],\n",
              "       [ 9. ],\n",
              "       [16. ],\n",
              "       [ 5. ],\n",
              "       [10. ],\n",
              "       [18. ],\n",
              "       [ 1.5],\n",
              "       [10. ],\n",
              "       [19. ],\n",
              "       [ 6. ],\n",
              "       [ 8. ],\n",
              "       [21. ],\n",
              "       [ 3. ],\n",
              "       [11. ],\n",
              "       [20. ],\n",
              "       [ 2. ],\n",
              "       [ 9. ],\n",
              "       [15. ],\n",
              "       [ 2. ],\n",
              "       [ 8. ],\n",
              "       [14. ],\n",
              "       [ 6. ],\n",
              "       [ 9. ],\n",
              "       [22. ],\n",
              "       [ 1.5],\n",
              "       [ 1.5],\n",
              "       [10. ],\n",
              "       [18. ],\n",
              "       [ 3. ],\n",
              "       [12. ],\n",
              "       [ 1.5],\n",
              "       [ 8. ],\n",
              "       [15. ],\n",
              "       [ 4. ],\n",
              "       [ 9. ],\n",
              "       [16. ],\n",
              "       [ 4. ],\n",
              "       [ 8. ],\n",
              "       [20. ],\n",
              "       [ 2. ],\n",
              "       [ 9. ],\n",
              "       [17. ],\n",
              "       [ 5. ],\n",
              "       [ 8. ],\n",
              "       [21. ],\n",
              "       [ 3. ],\n",
              "       [11. ],\n",
              "       [19. ],\n",
              "       [ 1.5],\n",
              "       [ 9. ],\n",
              "       [15. ],\n",
              "       [ 4. ],\n",
              "       [ 8. ],\n",
              "       [13. ],\n",
              "       [ 4. ],\n",
              "       [10. ],\n",
              "       [21. ],\n",
              "       [ 2. ],\n",
              "       [ 7. ],\n",
              "       [14. ],\n",
              "       [ 4. ],\n",
              "       [12. ],\n",
              "       [16. ],\n",
              "       [ 2. ],\n",
              "       [ 9. ],\n",
              "       [20. ],\n",
              "       [ 3. ],\n",
              "       [ 9. ],\n",
              "       [16. ],\n",
              "       [ 5. ],\n",
              "       [ 8. ],\n",
              "       [21. ],\n",
              "       [ 3. ],\n",
              "       [12. ],\n",
              "       [19. ],\n",
              "       [ 1.5],\n",
              "       [ 9. ],\n",
              "       [15. ],\n",
              "       [ 4. ],\n",
              "       [ 8. ],\n",
              "       [13. ],\n",
              "       [ 6. ],\n",
              "       [ 8. ],\n",
              "       [ 2. ],\n",
              "       [10. ],\n",
              "       [16. ],\n",
              "       [ 4. ],\n",
              "       [12. ],\n",
              "       [20. ],\n",
              "       [ 2. ],\n",
              "       [ 9. ],\n",
              "       [15. ],\n",
              "       [ 3. ],\n",
              "       [10. ],\n",
              "       [21. ],\n",
              "       [ 3. ],\n",
              "       [12. ],\n",
              "       [16. ],\n",
              "       [ 4. ],\n",
              "       [ 8. ],\n",
              "       [19. ],\n",
              "       [ 2. ],\n",
              "       [ 7. ],\n",
              "       [15. ],\n",
              "       [ 5. ],\n",
              "       [ 8. ],\n",
              "       [18. ],\n",
              "       [ 3. ],\n",
              "       [14. ],\n",
              "       [16. ],\n",
              "       [ 4. ],\n",
              "       [ 8. ],\n",
              "       [19. ],\n",
              "       [ 1. ],\n",
              "       [ 8. ],\n",
              "       [16. ],\n",
              "       [ 3. ],\n",
              "       [10. ],\n",
              "       [21. ],\n",
              "       [ 3. ],\n",
              "       [12. ],\n",
              "       [16. ],\n",
              "       [ 4. ],\n",
              "       [ 8. ],\n",
              "       [19. ],\n",
              "       [ 2. ],\n",
              "       [ 7. ],\n",
              "       [15. ],\n",
              "       [ 5. ],\n",
              "       [ 8. ],\n",
              "       [18. ],\n",
              "       [ 3. ],\n",
              "       [14. ],\n",
              "       [16. ],\n",
              "       [ 4. ],\n",
              "       [ 8. ],\n",
              "       [19. ],\n",
              "       [ 2. ],\n",
              "       [ 7. ],\n",
              "       [15. ]])"
            ]
          },
          "execution_count": 22,
          "metadata": {},
          "output_type": "execute_result"
        }
      ],
      "source": [
        "x = df.iloc[:,[4]].values\n",
        "x"
      ]
    },
    {
      "cell_type": "code",
      "execution_count": 23,
      "metadata": {
        "id": "QB4Ll5bMz8QF"
      },
      "outputs": [
        {
          "data": {
            "text/plain": [
              "array([ 90000.       ,  65000.       , 150000.       ,  60000.       ,\n",
              "       200000.       ,  55000.       , 120000.       ,  80000.       ,\n",
              "        45000.       , 110000.       ,  75000.       , 140000.       ,\n",
              "        65000.       , 130000.       ,  40000.       , 125000.       ,\n",
              "        90000.       , 115000.       ,  35000.       , 180000.       ,\n",
              "        80000.       , 190000.       ,  50000.       ,  60000.       ,\n",
              "       140000.       ,  45000.       , 110000.       ,  40000.       ,\n",
              "       140000.       ,  90000.       , 250000.       ,  55000.       ,\n",
              "        75000.       ,  65000.       , 170000.       ,  45000.       ,\n",
              "        60000.       , 115000.       ,  40000.       , 160000.       ,\n",
              "        80000.       , 190000.       ,  60000.       ,  45000.       ,\n",
              "       130000.       ,  40000.       ,  75000.       , 180000.       ,\n",
              "       120000.       ,  35000.       , 130000.       ,  85000.       ,\n",
              "        60000.       , 200000.       ,  50000.       ,  95000.       ,\n",
              "        65000.       , 140000.       ,  55000.       , 105000.       ,\n",
              "       170000.       ,  50000.       ,  80000.       , 180000.       ,\n",
              "        35000.       ,  90000.       , 120000.       ,  45000.       ,\n",
              "        90000.       , 150000.       ,  65000.       ,  70000.       ,\n",
              "       190000.       ,  40000.       , 120000.       ,  95000.       ,\n",
              "       160000.       , 100000.       , 180000.       ,  55000.       ,\n",
              "        70000.       ,  80000.       ,  30000.       , 250000.       ,\n",
              "        40000.       ,  95000.       ,  45000.       ,  80000.       ,\n",
              "       135000.       ,  55000.       , 120000.       ,  40000.       ,\n",
              "       105000.       , 170000.       ,  75000.       ,  65000.       ,\n",
              "       160000.       ,  35000.       ,  90000.       , 110000.       ,\n",
              "        45000.       ,  95000.       , 150000.       ,  50000.       ,\n",
              "        80000.       , 220000.       ,  50000.       ,  60000.       ,\n",
              "       100000.       ,  40000.       , 110000.       ,  95000.       ,\n",
              "       130000.       ,  90000.       ,  35000.       ,  95000.       ,\n",
              "        65000.       , 170000.       ,  45000.       , 120000.       ,\n",
              "       100000.       , 180000.       ,  50000.       ,  80000.       ,\n",
              "       140000.       ,  40000.       ,  95000.       , 110000.       ,\n",
              "        50000.       , 105000.       , 160000.       ,  45000.       ,\n",
              "       100000.       , 160000.       ,  35000.       ,  55000.       ,\n",
              "       140000.       ,  50000.       ,  60000.       , 120000.       ,\n",
              "        40000.       , 110000.       ,  50000.       , 135000.       ,\n",
              "        40000.       ,  90000.       , 150000.       ,  60000.       ,\n",
              "        80000.       , 175000.       ,  45000.       , 120000.       ,\n",
              "       140000.       ,  35000.       ,  95000.       , 110000.       ,\n",
              "        50000.       , 115000.       , 185000.       ,  40000.       ,\n",
              "        90000.       , 175000.       ,  45000.       ,  80000.       ,\n",
              "       120000.       ,  35000.       , 110000.       , 150000.       ,\n",
              "        50000.       , 105000.       , 180000.       ,  40000.       ,\n",
              "       100577.3458445, 140000.       ,  45000.       ,  85000.       ,\n",
              "       140000.       ,  50000.       ,  80000.       , 170000.       ,\n",
              "        40000.       , 105000.       , 145000.       ,  40000.       ,\n",
              "        85000.       , 130000.       ,  95000.       , 100000.       ,\n",
              "       180000.       ,  35000.       ,  95000.       , 170000.       ,\n",
              "        45000.       ,  95000.       , 120000.       ,  40000.       ,\n",
              "        90000.       , 155000.       ,  55000.       , 110000.       ,\n",
              "       180000.       ,  45000.       , 130000.       ,  45000.       ,\n",
              "        90000.       , 160000.       ,  50000.       , 120000.       ,\n",
              "       170000.       ,  40000.       , 110000.       , 150000.       ,\n",
              "        40000.       ,  85000.       , 130000.       , 100000.       ,\n",
              "        95000.       , 180000.       ,  35000.       , 100000.       ,\n",
              "       170000.       ,  45000.       , 100000.       , 140000.       ,\n",
              "        40000.       , 105000.       , 160000.       ,  70000.       ,\n",
              "       120000.       , 190000.       ,  45000.       , 120000.       ,\n",
              "        50000.       ,  85000.       , 140000.       ,  45000.       ,\n",
              "       100000.       , 140000.       ,  70000.       , 120000.       ,\n",
              "       160000.       ,  40000.       , 120000.       , 150000.       ,\n",
              "        70000.       ,  95000.       , 180000.       ,  50000.       ,\n",
              "        95000.       , 170000.       ,  40000.       , 110000.       ,\n",
              "       150000.       ,  40000.       ,  85000.       , 130000.       ,\n",
              "       100000.       ,  95000.       , 180000.       ,    350.       ,\n",
              "       100577.3458445, 120000.       , 160000.       ,  50000.       ,\n",
              "       110000.       ,  40000.       ,  95000.       , 140000.       ,\n",
              "        60000.       , 110000.       , 150000.       ,  60000.       ,\n",
              "        90000.       , 180000.       ,  40000.       , 120000.       ,\n",
              "       160000.       ,  70000.       ,  95000.       , 180000.       ,\n",
              "        50000.       ,  95000.       , 170000.       ,  35000.       ,\n",
              "       100000.       , 150000.       ,  60000.       ,  85000.       ,\n",
              "       130000.       ,  65000.       , 110000.       , 180000.       ,\n",
              "        40000.       ,  90000.       , 140000.       ,  60000.       ,\n",
              "       130000.       , 160000.       ,  40000.       , 100000.       ,\n",
              "       180000.       ,  55000.       , 120000.       , 150000.       ,\n",
              "        70000.       ,  95000.       , 180000.       ,  50000.       ,\n",
              "       120000.       , 170000.       ,  35000.       , 100000.       ,\n",
              "       150000.       ,  60000.       ,  85000.       , 130000.       ,\n",
              "        80000.       ,  95000.       ,  40000.       , 120000.       ,\n",
              "       160000.       ,  65000.       , 130000.       , 180000.       ,\n",
              "        40000.       , 100000.       , 150000.       ,  55000.       ,\n",
              "       110000.       , 180000.       ,  50000.       , 130000.       ,\n",
              "       160000.       ,  60000.       ,  95000.       , 170000.       ,\n",
              "        40000.       ,  90000.       , 150000.       ,  70000.       ,\n",
              "        90000.       , 170000.       ,  50000.       , 150000.       ,\n",
              "       160000.       ,  60000.       ,  85000.       , 180000.       ,\n",
              "        35000.       , 110000.       , 160000.       ,  55000.       ,\n",
              "       110000.       , 180000.       ,  50000.       , 130000.       ,\n",
              "       160000.       ,  60000.       ,  95000.       , 170000.       ,\n",
              "        40000.       ,  90000.       , 150000.       ,  70000.       ,\n",
              "        90000.       , 170000.       ,  50000.       , 150000.       ,\n",
              "       160000.       ,  60000.       ,  85000.       , 170000.       ,\n",
              "        40000.       ,  90000.       , 150000.       ])"
            ]
          },
          "execution_count": 23,
          "metadata": {},
          "output_type": "execute_result"
        }
      ],
      "source": [
        "y = df.iloc[:,5].values\n",
        "y"
      ]
    },
    {
      "cell_type": "code",
      "execution_count": 24,
      "metadata": {
        "id": "cm5mBeDi05ov"
      },
      "outputs": [],
      "source": [
        "from sklearn.linear_model import LinearRegression"
      ]
    },
    {
      "cell_type": "code",
      "execution_count": 25,
      "metadata": {
        "id": "IzSYNCqj61Jr"
      },
      "outputs": [],
      "source": [
        "model = LinearRegression()"
      ]
    },
    {
      "cell_type": "code",
      "execution_count": 26,
      "metadata": {
        "id": "nPezUuNc68M5"
      },
      "outputs": [
        {
          "data": {
            "text/html": [
              "<style>#sk-container-id-1 {\n",
              "  /* Definition of color scheme common for light and dark mode */\n",
              "  --sklearn-color-text: black;\n",
              "  --sklearn-color-line: gray;\n",
              "  /* Definition of color scheme for unfitted estimators */\n",
              "  --sklearn-color-unfitted-level-0: #fff5e6;\n",
              "  --sklearn-color-unfitted-level-1: #f6e4d2;\n",
              "  --sklearn-color-unfitted-level-2: #ffe0b3;\n",
              "  --sklearn-color-unfitted-level-3: chocolate;\n",
              "  /* Definition of color scheme for fitted estimators */\n",
              "  --sklearn-color-fitted-level-0: #f0f8ff;\n",
              "  --sklearn-color-fitted-level-1: #d4ebff;\n",
              "  --sklearn-color-fitted-level-2: #b3dbfd;\n",
              "  --sklearn-color-fitted-level-3: cornflowerblue;\n",
              "\n",
              "  /* Specific color for light theme */\n",
              "  --sklearn-color-text-on-default-background: var(--sg-text-color, var(--theme-code-foreground, var(--jp-content-font-color1, black)));\n",
              "  --sklearn-color-background: var(--sg-background-color, var(--theme-background, var(--jp-layout-color0, white)));\n",
              "  --sklearn-color-border-box: var(--sg-text-color, var(--theme-code-foreground, var(--jp-content-font-color1, black)));\n",
              "  --sklearn-color-icon: #696969;\n",
              "\n",
              "  @media (prefers-color-scheme: dark) {\n",
              "    /* Redefinition of color scheme for dark theme */\n",
              "    --sklearn-color-text-on-default-background: var(--sg-text-color, var(--theme-code-foreground, var(--jp-content-font-color1, white)));\n",
              "    --sklearn-color-background: var(--sg-background-color, var(--theme-background, var(--jp-layout-color0, #111)));\n",
              "    --sklearn-color-border-box: var(--sg-text-color, var(--theme-code-foreground, var(--jp-content-font-color1, white)));\n",
              "    --sklearn-color-icon: #878787;\n",
              "  }\n",
              "}\n",
              "\n",
              "#sk-container-id-1 {\n",
              "  color: var(--sklearn-color-text);\n",
              "}\n",
              "\n",
              "#sk-container-id-1 pre {\n",
              "  padding: 0;\n",
              "}\n",
              "\n",
              "#sk-container-id-1 input.sk-hidden--visually {\n",
              "  border: 0;\n",
              "  clip: rect(1px 1px 1px 1px);\n",
              "  clip: rect(1px, 1px, 1px, 1px);\n",
              "  height: 1px;\n",
              "  margin: -1px;\n",
              "  overflow: hidden;\n",
              "  padding: 0;\n",
              "  position: absolute;\n",
              "  width: 1px;\n",
              "}\n",
              "\n",
              "#sk-container-id-1 div.sk-dashed-wrapped {\n",
              "  border: 1px dashed var(--sklearn-color-line);\n",
              "  margin: 0 0.4em 0.5em 0.4em;\n",
              "  box-sizing: border-box;\n",
              "  padding-bottom: 0.4em;\n",
              "  background-color: var(--sklearn-color-background);\n",
              "}\n",
              "\n",
              "#sk-container-id-1 div.sk-container {\n",
              "  /* jupyter's `normalize.less` sets `[hidden] { display: none; }`\n",
              "     but bootstrap.min.css set `[hidden] { display: none !important; }`\n",
              "     so we also need the `!important` here to be able to override the\n",
              "     default hidden behavior on the sphinx rendered scikit-learn.org.\n",
              "     See: https://github.com/scikit-learn/scikit-learn/issues/21755 */\n",
              "  display: inline-block !important;\n",
              "  position: relative;\n",
              "}\n",
              "\n",
              "#sk-container-id-1 div.sk-text-repr-fallback {\n",
              "  display: none;\n",
              "}\n",
              "\n",
              "div.sk-parallel-item,\n",
              "div.sk-serial,\n",
              "div.sk-item {\n",
              "  /* draw centered vertical line to link estimators */\n",
              "  background-image: linear-gradient(var(--sklearn-color-text-on-default-background), var(--sklearn-color-text-on-default-background));\n",
              "  background-size: 2px 100%;\n",
              "  background-repeat: no-repeat;\n",
              "  background-position: center center;\n",
              "}\n",
              "\n",
              "/* Parallel-specific style estimator block */\n",
              "\n",
              "#sk-container-id-1 div.sk-parallel-item::after {\n",
              "  content: \"\";\n",
              "  width: 100%;\n",
              "  border-bottom: 2px solid var(--sklearn-color-text-on-default-background);\n",
              "  flex-grow: 1;\n",
              "}\n",
              "\n",
              "#sk-container-id-1 div.sk-parallel {\n",
              "  display: flex;\n",
              "  align-items: stretch;\n",
              "  justify-content: center;\n",
              "  background-color: var(--sklearn-color-background);\n",
              "  position: relative;\n",
              "}\n",
              "\n",
              "#sk-container-id-1 div.sk-parallel-item {\n",
              "  display: flex;\n",
              "  flex-direction: column;\n",
              "}\n",
              "\n",
              "#sk-container-id-1 div.sk-parallel-item:first-child::after {\n",
              "  align-self: flex-end;\n",
              "  width: 50%;\n",
              "}\n",
              "\n",
              "#sk-container-id-1 div.sk-parallel-item:last-child::after {\n",
              "  align-self: flex-start;\n",
              "  width: 50%;\n",
              "}\n",
              "\n",
              "#sk-container-id-1 div.sk-parallel-item:only-child::after {\n",
              "  width: 0;\n",
              "}\n",
              "\n",
              "/* Serial-specific style estimator block */\n",
              "\n",
              "#sk-container-id-1 div.sk-serial {\n",
              "  display: flex;\n",
              "  flex-direction: column;\n",
              "  align-items: center;\n",
              "  background-color: var(--sklearn-color-background);\n",
              "  padding-right: 1em;\n",
              "  padding-left: 1em;\n",
              "}\n",
              "\n",
              "\n",
              "/* Toggleable style: style used for estimator/Pipeline/ColumnTransformer box that is\n",
              "clickable and can be expanded/collapsed.\n",
              "- Pipeline and ColumnTransformer use this feature and define the default style\n",
              "- Estimators will overwrite some part of the style using the `sk-estimator` class\n",
              "*/\n",
              "\n",
              "/* Pipeline and ColumnTransformer style (default) */\n",
              "\n",
              "#sk-container-id-1 div.sk-toggleable {\n",
              "  /* Default theme specific background. It is overwritten whether we have a\n",
              "  specific estimator or a Pipeline/ColumnTransformer */\n",
              "  background-color: var(--sklearn-color-background);\n",
              "}\n",
              "\n",
              "/* Toggleable label */\n",
              "#sk-container-id-1 label.sk-toggleable__label {\n",
              "  cursor: pointer;\n",
              "  display: block;\n",
              "  width: 100%;\n",
              "  margin-bottom: 0;\n",
              "  padding: 0.5em;\n",
              "  box-sizing: border-box;\n",
              "  text-align: center;\n",
              "}\n",
              "\n",
              "#sk-container-id-1 label.sk-toggleable__label-arrow:before {\n",
              "  /* Arrow on the left of the label */\n",
              "  content: \"▸\";\n",
              "  float: left;\n",
              "  margin-right: 0.25em;\n",
              "  color: var(--sklearn-color-icon);\n",
              "}\n",
              "\n",
              "#sk-container-id-1 label.sk-toggleable__label-arrow:hover:before {\n",
              "  color: var(--sklearn-color-text);\n",
              "}\n",
              "\n",
              "/* Toggleable content - dropdown */\n",
              "\n",
              "#sk-container-id-1 div.sk-toggleable__content {\n",
              "  max-height: 0;\n",
              "  max-width: 0;\n",
              "  overflow: hidden;\n",
              "  text-align: left;\n",
              "  /* unfitted */\n",
              "  background-color: var(--sklearn-color-unfitted-level-0);\n",
              "}\n",
              "\n",
              "#sk-container-id-1 div.sk-toggleable__content.fitted {\n",
              "  /* fitted */\n",
              "  background-color: var(--sklearn-color-fitted-level-0);\n",
              "}\n",
              "\n",
              "#sk-container-id-1 div.sk-toggleable__content pre {\n",
              "  margin: 0.2em;\n",
              "  border-radius: 0.25em;\n",
              "  color: var(--sklearn-color-text);\n",
              "  /* unfitted */\n",
              "  background-color: var(--sklearn-color-unfitted-level-0);\n",
              "}\n",
              "\n",
              "#sk-container-id-1 div.sk-toggleable__content.fitted pre {\n",
              "  /* unfitted */\n",
              "  background-color: var(--sklearn-color-fitted-level-0);\n",
              "}\n",
              "\n",
              "#sk-container-id-1 input.sk-toggleable__control:checked~div.sk-toggleable__content {\n",
              "  /* Expand drop-down */\n",
              "  max-height: 200px;\n",
              "  max-width: 100%;\n",
              "  overflow: auto;\n",
              "}\n",
              "\n",
              "#sk-container-id-1 input.sk-toggleable__control:checked~label.sk-toggleable__label-arrow:before {\n",
              "  content: \"▾\";\n",
              "}\n",
              "\n",
              "/* Pipeline/ColumnTransformer-specific style */\n",
              "\n",
              "#sk-container-id-1 div.sk-label input.sk-toggleable__control:checked~label.sk-toggleable__label {\n",
              "  color: var(--sklearn-color-text);\n",
              "  background-color: var(--sklearn-color-unfitted-level-2);\n",
              "}\n",
              "\n",
              "#sk-container-id-1 div.sk-label.fitted input.sk-toggleable__control:checked~label.sk-toggleable__label {\n",
              "  background-color: var(--sklearn-color-fitted-level-2);\n",
              "}\n",
              "\n",
              "/* Estimator-specific style */\n",
              "\n",
              "/* Colorize estimator box */\n",
              "#sk-container-id-1 div.sk-estimator input.sk-toggleable__control:checked~label.sk-toggleable__label {\n",
              "  /* unfitted */\n",
              "  background-color: var(--sklearn-color-unfitted-level-2);\n",
              "}\n",
              "\n",
              "#sk-container-id-1 div.sk-estimator.fitted input.sk-toggleable__control:checked~label.sk-toggleable__label {\n",
              "  /* fitted */\n",
              "  background-color: var(--sklearn-color-fitted-level-2);\n",
              "}\n",
              "\n",
              "#sk-container-id-1 div.sk-label label.sk-toggleable__label,\n",
              "#sk-container-id-1 div.sk-label label {\n",
              "  /* The background is the default theme color */\n",
              "  color: var(--sklearn-color-text-on-default-background);\n",
              "}\n",
              "\n",
              "/* On hover, darken the color of the background */\n",
              "#sk-container-id-1 div.sk-label:hover label.sk-toggleable__label {\n",
              "  color: var(--sklearn-color-text);\n",
              "  background-color: var(--sklearn-color-unfitted-level-2);\n",
              "}\n",
              "\n",
              "/* Label box, darken color on hover, fitted */\n",
              "#sk-container-id-1 div.sk-label.fitted:hover label.sk-toggleable__label.fitted {\n",
              "  color: var(--sklearn-color-text);\n",
              "  background-color: var(--sklearn-color-fitted-level-2);\n",
              "}\n",
              "\n",
              "/* Estimator label */\n",
              "\n",
              "#sk-container-id-1 div.sk-label label {\n",
              "  font-family: monospace;\n",
              "  font-weight: bold;\n",
              "  display: inline-block;\n",
              "  line-height: 1.2em;\n",
              "}\n",
              "\n",
              "#sk-container-id-1 div.sk-label-container {\n",
              "  text-align: center;\n",
              "}\n",
              "\n",
              "/* Estimator-specific */\n",
              "#sk-container-id-1 div.sk-estimator {\n",
              "  font-family: monospace;\n",
              "  border: 1px dotted var(--sklearn-color-border-box);\n",
              "  border-radius: 0.25em;\n",
              "  box-sizing: border-box;\n",
              "  margin-bottom: 0.5em;\n",
              "  /* unfitted */\n",
              "  background-color: var(--sklearn-color-unfitted-level-0);\n",
              "}\n",
              "\n",
              "#sk-container-id-1 div.sk-estimator.fitted {\n",
              "  /* fitted */\n",
              "  background-color: var(--sklearn-color-fitted-level-0);\n",
              "}\n",
              "\n",
              "/* on hover */\n",
              "#sk-container-id-1 div.sk-estimator:hover {\n",
              "  /* unfitted */\n",
              "  background-color: var(--sklearn-color-unfitted-level-2);\n",
              "}\n",
              "\n",
              "#sk-container-id-1 div.sk-estimator.fitted:hover {\n",
              "  /* fitted */\n",
              "  background-color: var(--sklearn-color-fitted-level-2);\n",
              "}\n",
              "\n",
              "/* Specification for estimator info (e.g. \"i\" and \"?\") */\n",
              "\n",
              "/* Common style for \"i\" and \"?\" */\n",
              "\n",
              ".sk-estimator-doc-link,\n",
              "a:link.sk-estimator-doc-link,\n",
              "a:visited.sk-estimator-doc-link {\n",
              "  float: right;\n",
              "  font-size: smaller;\n",
              "  line-height: 1em;\n",
              "  font-family: monospace;\n",
              "  background-color: var(--sklearn-color-background);\n",
              "  border-radius: 1em;\n",
              "  height: 1em;\n",
              "  width: 1em;\n",
              "  text-decoration: none !important;\n",
              "  margin-left: 1ex;\n",
              "  /* unfitted */\n",
              "  border: var(--sklearn-color-unfitted-level-1) 1pt solid;\n",
              "  color: var(--sklearn-color-unfitted-level-1);\n",
              "}\n",
              "\n",
              ".sk-estimator-doc-link.fitted,\n",
              "a:link.sk-estimator-doc-link.fitted,\n",
              "a:visited.sk-estimator-doc-link.fitted {\n",
              "  /* fitted */\n",
              "  border: var(--sklearn-color-fitted-level-1) 1pt solid;\n",
              "  color: var(--sklearn-color-fitted-level-1);\n",
              "}\n",
              "\n",
              "/* On hover */\n",
              "div.sk-estimator:hover .sk-estimator-doc-link:hover,\n",
              ".sk-estimator-doc-link:hover,\n",
              "div.sk-label-container:hover .sk-estimator-doc-link:hover,\n",
              ".sk-estimator-doc-link:hover {\n",
              "  /* unfitted */\n",
              "  background-color: var(--sklearn-color-unfitted-level-3);\n",
              "  color: var(--sklearn-color-background);\n",
              "  text-decoration: none;\n",
              "}\n",
              "\n",
              "div.sk-estimator.fitted:hover .sk-estimator-doc-link.fitted:hover,\n",
              ".sk-estimator-doc-link.fitted:hover,\n",
              "div.sk-label-container:hover .sk-estimator-doc-link.fitted:hover,\n",
              ".sk-estimator-doc-link.fitted:hover {\n",
              "  /* fitted */\n",
              "  background-color: var(--sklearn-color-fitted-level-3);\n",
              "  color: var(--sklearn-color-background);\n",
              "  text-decoration: none;\n",
              "}\n",
              "\n",
              "/* Span, style for the box shown on hovering the info icon */\n",
              ".sk-estimator-doc-link span {\n",
              "  display: none;\n",
              "  z-index: 9999;\n",
              "  position: relative;\n",
              "  font-weight: normal;\n",
              "  right: .2ex;\n",
              "  padding: .5ex;\n",
              "  margin: .5ex;\n",
              "  width: min-content;\n",
              "  min-width: 20ex;\n",
              "  max-width: 50ex;\n",
              "  color: var(--sklearn-color-text);\n",
              "  box-shadow: 2pt 2pt 4pt #999;\n",
              "  /* unfitted */\n",
              "  background: var(--sklearn-color-unfitted-level-0);\n",
              "  border: .5pt solid var(--sklearn-color-unfitted-level-3);\n",
              "}\n",
              "\n",
              ".sk-estimator-doc-link.fitted span {\n",
              "  /* fitted */\n",
              "  background: var(--sklearn-color-fitted-level-0);\n",
              "  border: var(--sklearn-color-fitted-level-3);\n",
              "}\n",
              "\n",
              ".sk-estimator-doc-link:hover span {\n",
              "  display: block;\n",
              "}\n",
              "\n",
              "/* \"?\"-specific style due to the `<a>` HTML tag */\n",
              "\n",
              "#sk-container-id-1 a.estimator_doc_link {\n",
              "  float: right;\n",
              "  font-size: 1rem;\n",
              "  line-height: 1em;\n",
              "  font-family: monospace;\n",
              "  background-color: var(--sklearn-color-background);\n",
              "  border-radius: 1rem;\n",
              "  height: 1rem;\n",
              "  width: 1rem;\n",
              "  text-decoration: none;\n",
              "  /* unfitted */\n",
              "  color: var(--sklearn-color-unfitted-level-1);\n",
              "  border: var(--sklearn-color-unfitted-level-1) 1pt solid;\n",
              "}\n",
              "\n",
              "#sk-container-id-1 a.estimator_doc_link.fitted {\n",
              "  /* fitted */\n",
              "  border: var(--sklearn-color-fitted-level-1) 1pt solid;\n",
              "  color: var(--sklearn-color-fitted-level-1);\n",
              "}\n",
              "\n",
              "/* On hover */\n",
              "#sk-container-id-1 a.estimator_doc_link:hover {\n",
              "  /* unfitted */\n",
              "  background-color: var(--sklearn-color-unfitted-level-3);\n",
              "  color: var(--sklearn-color-background);\n",
              "  text-decoration: none;\n",
              "}\n",
              "\n",
              "#sk-container-id-1 a.estimator_doc_link.fitted:hover {\n",
              "  /* fitted */\n",
              "  background-color: var(--sklearn-color-fitted-level-3);\n",
              "}\n",
              "</style><div id=\"sk-container-id-1\" class=\"sk-top-container\"><div class=\"sk-text-repr-fallback\"><pre>LinearRegression()</pre><b>In a Jupyter environment, please rerun this cell to show the HTML representation or trust the notebook. <br />On GitHub, the HTML representation is unable to render, please try loading this page with nbviewer.org.</b></div><div class=\"sk-container\" hidden><div class=\"sk-item\"><div class=\"sk-estimator fitted sk-toggleable\"><input class=\"sk-toggleable__control sk-hidden--visually\" id=\"sk-estimator-id-1\" type=\"checkbox\" checked><label for=\"sk-estimator-id-1\" class=\"sk-toggleable__label fitted sk-toggleable__label-arrow fitted\">&nbsp;&nbsp;LinearRegression<a class=\"sk-estimator-doc-link fitted\" rel=\"noreferrer\" target=\"_blank\" href=\"https://scikit-learn.org/1.5/modules/generated/sklearn.linear_model.LinearRegression.html\">?<span>Documentation for LinearRegression</span></a><span class=\"sk-estimator-doc-link fitted\">i<span>Fitted</span></span></label><div class=\"sk-toggleable__content fitted\"><pre>LinearRegression()</pre></div> </div></div></div></div>"
            ],
            "text/plain": [
              "LinearRegression()"
            ]
          },
          "execution_count": 26,
          "metadata": {},
          "output_type": "execute_result"
        }
      ],
      "source": [
        "model.fit(x,y)"
      ]
    },
    {
      "cell_type": "code",
      "execution_count": 27,
      "metadata": {
        "id": "z3VCHDFF7Kg8"
      },
      "outputs": [
        {
          "data": {
            "text/plain": [
              "array([83701.39756454])"
            ]
          },
          "execution_count": 27,
          "metadata": {},
          "output_type": "execute_result"
        }
      ],
      "source": [
        "model.predict([[7.5]])"
      ]
    },
    {
      "cell_type": "code",
      "execution_count": 28,
      "metadata": {
        "id": "lJrcCscO7Uhy"
      },
      "outputs": [
        {
          "data": {
            "text/plain": [
              "array([ 66734.96162625,  53161.81287561, 134600.70537944,  80308.11037689,\n",
              "       168533.57725603,  46375.23850029, 114240.98225348,  59948.38725093,\n",
              "        39588.66412497, 100667.83350284,  53161.81287561, 154960.42850539,\n",
              "        73521.53600157, 127814.13100412,  46375.23850029, 141387.27975475,\n",
              "        80308.11037689, 114240.98225348,  32802.08974965, 182106.72600667,\n",
              "        66734.96162625, 161747.00288071,  46375.23850029,  93881.25912752,\n",
              "       121027.5566288 ,  53161.81287561, 107454.40787816,  39588.66412497,\n",
              "       134600.70537944,  73521.53600157, 202466.44913262,  59948.38725093,\n",
              "        53161.81287561, 100667.83350284, 168533.57725603,  46375.23850029,\n",
              "        80308.11037689, 127814.13100412,  39588.66412497, 175320.15163135,\n",
              "        66734.96162625, 154960.42850539,  53161.81287561,  87094.6847522 ,\n",
              "       121027.5566288 ,  46375.23850029,  66734.96162625, 141387.27975475,\n",
              "       107454.40787816,  32802.08974965, 182106.72600667,  80308.11037689,\n",
              "       114240.98225348, 161747.00288071,  53161.81287561,  93881.25912752,\n",
              "        46375.23850029, 148173.85413007,  59948.38725093,  80308.11037689,\n",
              "       188893.30038199,  53161.81287561, 114240.98225348, 175320.15163135,\n",
              "        39588.66412497, 100667.83350284, 161747.00288071,  66734.96162625,\n",
              "        87094.6847522 , 154960.42850539,  73521.53600157, 107454.40787816,\n",
              "       141387.27975475,  46375.23850029, 127814.13100412, 100667.83350284,\n",
              "       182106.72600667,  73521.53600157, 168533.57725603,  53161.81287561,\n",
              "        87094.6847522 , 121027.5566288 ,  32802.08974965, 195679.8747573 ,\n",
              "        46375.23850029, 100667.83350284,  46375.23850029, 134600.70537944,\n",
              "       175320.15163135,  73521.53600157, 107454.40787816,  53161.81287561,\n",
              "       154960.42850539, 202466.44913262,  80308.11037689, 114240.98225348,\n",
              "       182106.72600667,  39588.66412497, 100667.83350284, 168533.57725603,\n",
              "        66734.96162625,  87094.6847522 , 161747.00288071,  66734.96162625,\n",
              "       121027.5566288 , 141387.27975475,  53161.81287561,  80308.11037689,\n",
              "       127814.13100412,  46375.23850029, 134600.70537944,  93881.25912752,\n",
              "       182106.72600667,  73521.53600157,  36195.37693731,  73521.53600157,\n",
              "       134600.70537944, 168533.57725603,  53161.81287561, 100667.83350284,\n",
              "       148173.85413007, 202466.44913262,  66734.96162625, 107454.40787816,\n",
              "       141387.27975475,  46375.23850029,  93881.25912752, 154960.42850539,\n",
              "        59948.38725093,  87094.6847522 , 175320.15163135,  53161.81287561,\n",
              "       114240.98225348, 182106.72600667,  39588.66412497, 100667.83350284,\n",
              "       161747.00288071,  59948.38725093,  80308.11037689, 127814.13100412,\n",
              "        46375.23850029, 121027.5566288 ,  66734.96162625, 168533.57725603,\n",
              "        42981.95131263,  87094.6847522 , 141387.27975475,  59948.38725093,\n",
              "       100667.83350284, 161747.00288071,  53161.81287561, 107454.40787816,\n",
              "       154960.42850539,  46375.23850029,  93881.25912752, 127814.13100412,\n",
              "        66734.96162625,  80308.11037689, 188893.30038199,  46375.23850029,\n",
              "       114240.98225348, 175320.15163135,  53161.81287561,  80308.11037689,\n",
              "       121027.5566288 ,  42981.95131263, 127814.13100412, 154960.42850539,\n",
              "        59948.38725093,  93881.25912752, 168533.57725603,  46375.23850029,\n",
              "        46375.23850029, 141387.27975475,  42981.95131263,  80308.11037689,\n",
              "       154960.42850539,  59948.38725093, 100667.83350284, 168533.57725603,\n",
              "        46375.23850029,  93881.25912752, 134600.70537944,  46375.23850029,\n",
              "        87094.6847522 , 127814.13100412,  73521.53600157,  93881.25912752,\n",
              "       182106.72600667,  42981.95131263, 114240.98225348, 161747.00288071,\n",
              "        53161.81287561,  80308.11037689, 121027.5566288 ,  46375.23850029,\n",
              "       107454.40787816, 148173.85413007,  66734.96162625,  93881.25912752,\n",
              "       175320.15163135,  53161.81287561, 141387.27975475,  42981.95131263,\n",
              "        80308.11037689, 148173.85413007,  59948.38725093, 100667.83350284,\n",
              "       168533.57725603,  46375.23850029,  93881.25912752, 134600.70537944,\n",
              "        46375.23850029,  87094.6847522 , 127814.13100412,  73521.53600157,\n",
              "        93881.25912752, 182106.72600667,  42981.95131263, 114240.98225348,\n",
              "       161747.00288071,  53161.81287561,  80308.11037689, 121027.5566288 ,\n",
              "        46375.23850029, 107454.40787816, 154960.42850539,  66734.96162625,\n",
              "        93881.25912752, 175320.15163135,  53161.81287561, 134600.70537944,\n",
              "        42981.95131263,  87094.6847522 , 121027.5566288 ,  53161.81287561,\n",
              "        93881.25912752, 141387.27975475,  66734.96162625, 100667.83350284,\n",
              "       154960.42850539,  42981.95131263, 100667.83350284, 161747.00288071,\n",
              "        73521.53600157,  87094.6847522 , 175320.15163135,  53161.81287561,\n",
              "       107454.40787816, 168533.57725603,  46375.23850029,  93881.25912752,\n",
              "       134600.70537944,  46375.23850029,  87094.6847522 , 127814.13100412,\n",
              "        73521.53600157,  93881.25912752, 182106.72600667,  42981.95131263,\n",
              "        42981.95131263, 100667.83350284, 154960.42850539,  53161.81287561,\n",
              "       114240.98225348,  42981.95131263,  87094.6847522 , 134600.70537944,\n",
              "        59948.38725093,  93881.25912752, 141387.27975475,  59948.38725093,\n",
              "        87094.6847522 , 168533.57725603,  46375.23850029,  93881.25912752,\n",
              "       148173.85413007,  66734.96162625,  87094.6847522 , 175320.15163135,\n",
              "        53161.81287561, 107454.40787816, 161747.00288071,  42981.95131263,\n",
              "        93881.25912752, 134600.70537944,  59948.38725093,  87094.6847522 ,\n",
              "       121027.5566288 ,  59948.38725093, 100667.83350284, 175320.15163135,\n",
              "        46375.23850029,  80308.11037689, 127814.13100412,  59948.38725093,\n",
              "       114240.98225348, 141387.27975475,  46375.23850029,  93881.25912752,\n",
              "       168533.57725603,  53161.81287561,  93881.25912752, 141387.27975475,\n",
              "        66734.96162625,  87094.6847522 , 175320.15163135,  53161.81287561,\n",
              "       114240.98225348, 161747.00288071,  42981.95131263,  93881.25912752,\n",
              "       134600.70537944,  59948.38725093,  87094.6847522 , 121027.5566288 ,\n",
              "        73521.53600157,  87094.6847522 ,  46375.23850029, 100667.83350284,\n",
              "       141387.27975475,  59948.38725093, 114240.98225348, 168533.57725603,\n",
              "        46375.23850029,  93881.25912752, 134600.70537944,  53161.81287561,\n",
              "       100667.83350284, 175320.15163135,  53161.81287561, 114240.98225348,\n",
              "       141387.27975475,  59948.38725093,  87094.6847522 , 161747.00288071,\n",
              "        46375.23850029,  80308.11037689, 134600.70537944,  66734.96162625,\n",
              "        87094.6847522 , 154960.42850539,  53161.81287561, 127814.13100412,\n",
              "       141387.27975475,  59948.38725093,  87094.6847522 , 161747.00288071,\n",
              "        39588.66412497,  87094.6847522 , 141387.27975475,  53161.81287561,\n",
              "       100667.83350284, 175320.15163135,  53161.81287561, 114240.98225348,\n",
              "       141387.27975475,  59948.38725093,  87094.6847522 , 161747.00288071,\n",
              "        46375.23850029,  80308.11037689, 134600.70537944,  66734.96162625,\n",
              "        87094.6847522 , 154960.42850539,  53161.81287561, 127814.13100412,\n",
              "       141387.27975475,  59948.38725093,  87094.6847522 , 161747.00288071,\n",
              "        46375.23850029,  80308.11037689, 134600.70537944])"
            ]
          },
          "execution_count": 28,
          "metadata": {},
          "output_type": "execute_result"
        }
      ],
      "source": [
        "y_pred = model.predict(x)\n",
        "y_pred"
      ]
    },
    {
      "cell_type": "code",
      "execution_count": 29,
      "metadata": {
        "id": "aTDCk9Pz7fyE"
      },
      "outputs": [],
      "source": [
        "from sklearn.metrics import mean_squared_error , mean_absolute_error , r2_score"
      ]
    },
    {
      "cell_type": "code",
      "execution_count": 30,
      "metadata": {
        "id": "Z6RkLasF8J5w"
      },
      "outputs": [
        {
          "data": {
            "text/plain": [
              "np.float64(327338340.87243086)"
            ]
          },
          "execution_count": 30,
          "metadata": {},
          "output_type": "execute_result"
        }
      ],
      "source": [
        "MSE = mean_squared_error(y, y_pred)\n",
        "MSE"
      ]
    },
    {
      "cell_type": "code",
      "execution_count": 31,
      "metadata": {
        "id": "DyotZJZ98VXu"
      },
      "outputs": [
        {
          "data": {
            "text/plain": [
              "np.float64(12847.455346968725)"
            ]
          },
          "execution_count": 31,
          "metadata": {},
          "output_type": "execute_result"
        }
      ],
      "source": [
        "MAE = mean_absolute_error(y, y_pred)\n",
        "MAE"
      ]
    },
    {
      "cell_type": "code",
      "execution_count": 32,
      "metadata": {
        "id": "AbKYHAui8xNk"
      },
      "outputs": [
        {
          "data": {
            "text/plain": [
              "np.float64(18092.494047876065)"
            ]
          },
          "execution_count": 32,
          "metadata": {},
          "output_type": "execute_result"
        }
      ],
      "source": [
        "RMSE = np.sqrt(mean_squared_error(y, y_pred))\n",
        "RMSE"
      ]
    },
    {
      "cell_type": "code",
      "execution_count": 33,
      "metadata": {
        "id": "Hq-U0Ujt8eS2"
      },
      "outputs": [
        {
          "data": {
            "text/plain": [
              "0.858201915656348"
            ]
          },
          "execution_count": 33,
          "metadata": {},
          "output_type": "execute_result"
        }
      ],
      "source": [
        "r2_score(y, y_pred)"
      ]
    },
    {
      "cell_type": "code",
      "execution_count": 34,
      "metadata": {
        "id": "hUUcJT5-8hTS"
      },
      "outputs": [
        {
          "data": {
            "text/plain": [
              "array([6786.57437532])"
            ]
          },
          "execution_count": 34,
          "metadata": {},
          "output_type": "execute_result"
        }
      ],
      "source": [
        "model.coef_"
      ]
    },
    {
      "cell_type": "code",
      "execution_count": 35,
      "metadata": {
        "id": "yqGOlHvM_mNJ"
      },
      "outputs": [
        {
          "data": {
            "text/plain": [
              "np.float64(32802.089749653634)"
            ]
          },
          "execution_count": 35,
          "metadata": {},
          "output_type": "execute_result"
        }
      ],
      "source": [
        "model.intercept_"
      ]
    },
    {
      "cell_type": "code",
      "execution_count": 36,
      "metadata": {
        "colab": {
          "base_uri": "https://localhost:8080/",
          "height": 733
        },
        "id": "Zhf_Jqk1_rWv",
        "outputId": "b9818896-d02e-428e-cfa0-6e14459cb91f"
      },
      "outputs": [
        {
          "data": {
            "text/plain": [
              "<matplotlib.legend.Legend at 0x22559f81100>"
            ]
          },
          "execution_count": 36,
          "metadata": {},
          "output_type": "execute_result"
        },
        {
          "data": {
            "image/png": "[encoded data removed]",
            "text/plain": [
              "<Figure size 1000x800 with 1 Axes>"
            ]
          },
          "metadata": {},
          "output_type": "display_data"
        }
      ],
      "source": [
        "plt.figure(figsize = (10,8))\n",
        "plt.scatter(x,y, color = \"red\", label = \"Actual Value\")\n",
        "plt.plot(x, y_pred, color = \"black\", label = \"Predicted Value\", marker = '.')\n",
        "plt.xticks(np.arange(1, 40, 1.5), rotation = 60)\n",
        "plt.yticks(np.arange(5000, 250000, 10000))\n",
        "plt.grid(linestyle = \"--\")\n",
        "plt.xlabel(\"Years of Experience\")\n",
        "plt.ylabel(\"Expected Salary\")\n",
        "plt.legend()"
      ]
    },
    {
      "cell_type": "markdown",
      "metadata": {
        "id": "2NVekrCjE4ER"
      },
      "source": [
        "STREAMLIT"
      ]
    },
    {
      "cell_type": "code",
      "execution_count": 37,
      "metadata": {
        "colab": {
          "base_uri": "https://localhost:8080/"
        },
        "id": "qWKJAjzBDFV0",
        "outputId": "8514da91-5216-4871-cd78-4063fc54055f"
      },
      "outputs": [],
      "source": [
        "!pip install streamlit --quiet"
      ]
    },
    {
      "cell_type": "code",
      "execution_count": 38,
      "metadata": {
        "id": "sI2fsG6TE-8z"
      },
      "outputs": [],
      "source": [
        "import joblib"
      ]
    },
    {
      "cell_type": "code",
      "execution_count": 39,
      "metadata": {
        "colab": {
          "base_uri": "https://localhost:8080/"
        },
        "id": "Ipm9kYqXFGvm",
        "outputId": "7db43ccd-8e1f-47d9-8ec0-3f37f19d0c5f"
      },
      "outputs": [
        {
          "data": {
            "text/plain": [
              "['lr_model']"
            ]
          },
          "execution_count": 39,
          "metadata": {},
          "output_type": "execute_result"
        }
      ],
      "source": [
        "joblib.dump(model, \"lr_model\")"
      ]
    },
    {
      "cell_type": "code",
      "execution_count": 40,
      "metadata": {
        "colab": {
          "base_uri": "https://localhost:8080/"
        },
        "id": "qjyqSNCrFL6N",
        "outputId": "5445f79d-a5c8-4c5f-cd55-7a76b6f9da23"
      },
      "outputs": [
        {
          "name": "stdout",
          "output_type": "stream",
          "text": [
            "Writing app.py\n"
          ]
        }
      ],
      "source": [
        "%%writefile app.py\n",
        "import streamlit as st\n",
        "import joblib\n",
        "\n",
        "model = joblib.load(\"lr_model\")\n",
        "st.title(\"Salary Prediction App\")\n",
        "st.header(\"This is done using Streamlit\")\n",
        "st.subheader(\"The algorithm used is Linear Regression\")\n",
        "st.text(\"Please enter the years of experience and click on PREDICT button\")\n",
        "\n",
        "years = st.number_input('Enter the years of Experience', min_value = 0.0, max_value = 15.0, value = 5.5, step = 0.5)\n",
        "\n",
        "if st.button('PREDICT'):\n",
        "  sal = model.predict([[years]])\n",
        "  st.subheader(\"The expected salary is\" + str(sal))"
      ]
    },
    {
      "cell_type": "code",
      "execution_count": 41,
      "metadata": {
        "colab": {
          "base_uri": "https://localhost:8080/"
        },
        "id": "-pkaecIyFccl",
        "outputId": "8558169f-468d-4192-dd3e-e0fbe682e927"
      },
      "outputs": [],
      "source": [
        "!streamlit run app.py & npx localtunnel --port 8501"
      ]
    },
    {
      "cell_type": "code",
      "execution_count": null,
      "metadata": {
        "id": "6Xb116oWJbMw"
      },
      "outputs": [],
      "source": []
    }
  ],
  "metadata": {
    "colab": {
      "provenance": []
    },
    "kernelspec": {
      "display_name": "Python 3",
      "name": "python3"
    },
    "language_info": {
      "codemirror_mode": {
        "name": "ipython",
        "version": 3
      },
      "file_extension": ".py",
      "mimetype": "text/x-python",
      "name": "python",
      "nbconvert_exporter": "python",
      "pygments_lexer": "ipython3",
      "version": "3.12.0"
    }
  },
  "nbformat": 4,
  "nbformat_minor": 0
}
